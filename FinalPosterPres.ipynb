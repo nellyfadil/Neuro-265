{
  "nbformat": 4,
  "nbformat_minor": 0,
  "metadata": {
    "colab": {
      "provenance": [],
      "authorship_tag": "ABX9TyMKJuf09Q4I78wMvjzNf/L7",
      "include_colab_link": true
    },
    "kernelspec": {
      "name": "python3",
      "display_name": "Python 3"
    },
    "language_info": {
      "name": "python"
    }
  },
  "cells": [
    {
      "cell_type": "markdown",
      "metadata": {
        "id": "view-in-github",
        "colab_type": "text"
      },
      "source": [
        "<a href=\"https://colab.research.google.com/github/nellyfadil/Neuro-265/blob/main/FinalPosterPres.ipynb\" target=\"_parent\"><img src=\"https://colab.research.google.com/assets/colab-badge.svg\" alt=\"Open In Colab\"/></a>"
      ]
    },
    {
      "cell_type": "code",
      "execution_count": 1,
      "metadata": {
        "id": "l2HEqwh0EpG_"
      },
      "outputs": [],
      "source": [
        "#import \n",
        "import numpy as np \n",
        "import pandas as pd\n",
        "import matplotlib.pyplot as plt"
      ]
    },
    {
      "cell_type": "code",
      "source": [
        "from numpy.lib.index_tricks import unravel_index\n",
        "#import data \n",
        "url1 = 'https://raw.githubusercontent.com/nellyfadil/Neuro-265/main/alzheimers_IDs_final_project.xlsx%20-%20SEA-AD_Cohort_Metadata.csv'\n",
        "alz_id = pd.read_csv(url1)\n",
        "\n",
        "url2 = 'https://raw.githubusercontent.com/nellyfadil/Neuro-265/main/alzheimers_pathology_final_project%20-%20alzheimers_pathology_final_project.csv'\n",
        "alz_path = pd.read_csv(url2)"
      ],
      "metadata": {
        "id": "IIGTSf0tFjYI"
      },
      "execution_count": 6,
      "outputs": []
    },
    {
      "cell_type": "code",
      "source": [
        "#create variables \n",
        "sex = alz_id.iloc[:,4]\n",
        "Atherosclerosis = [:,-4]\n",
        "at8_layer1 = \n",
        "at8_layer2 = \n",
        "pTDP43_layer1 = \n",
        "pTDP43_layer5_6 ="
      ],
      "metadata": {
        "id": "skqU3EA-LWce"
      },
      "execution_count": null,
      "outputs": []
    }
  ]
}