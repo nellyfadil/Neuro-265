{
  "nbformat": 4,
  "nbformat_minor": 0,
  "metadata": {
    "colab": {
      "provenance": [],
      "include_colab_link": true
    },
    "kernelspec": {
      "name": "python3",
      "display_name": "Python 3"
    },
    "language_info": {
      "name": "python"
    }
  },
  "cells": [
    {
      "cell_type": "markdown",
      "metadata": {
        "id": "view-in-github",
        "colab_type": "text"
      },
      "source": [
        "<a href=\"https://colab.research.google.com/github/nellyfadil/Neuro-265/blob/main/02_22_23.ipynb\" target=\"_parent\"><img src=\"https://colab.research.google.com/assets/colab-badge.svg\" alt=\"Open In Colab\"/></a>"
      ]
    },
    {
      "cell_type": "markdown",
      "source": [
        "# Programming Fundamentals IV\n",
        "\n",
        "### Loops\n",
        "\n",
        "In this notebook, we'll begin writing loops."
      ],
      "metadata": {
        "id": "eA6kCxQLj6zv"
      }
    },
    {
      "cell_type": "markdown",
      "source": [
        "## At the end of this notebook, you'll be able to:\n",
        "\n",
        "* Write a simple loop\n",
        "* Write a simple function"
      ],
      "metadata": {
        "id": "7BUViDT7kI3N"
      }
    },
    {
      "cell_type": "markdown",
      "source": [
        "## Loops\n",
        "\n",
        "Loops allow you to run a bit of code multiple times. They're a great way to avoid copying and pasting the same bit of code multiple times."
      ],
      "metadata": {
        "id": "wm4iNAlUkV8M"
      }
    },
    {
      "cell_type": "markdown",
      "source": [
        "### Loops can be written in multiple ways.\n",
        "\n",
        "The `for` loop iterates over the elements of the supplied list, and executes the containing block once for each element.\n",
        "\n",
        "Any kind of list can be used in the for loop (e.g., a list, a range, etc.)"
      ],
      "metadata": {
        "id": "iz_u-PiZka5Y"
      }
    },
    {
      "cell_type": "code",
      "source": [
        "# Simple for loop\n",
        "\n",
        "values = range(4)\n",
        "\n",
        "# Iterate from i = 0 to i = 3\n",
        "\n",
        "for i in values:\n",
        "  print(i)"
      ],
      "metadata": {
        "id": "yg1rynhgkiA4",
        "outputId": "54ab65ae-4ffa-4cec-e109-3670f0b0887f",
        "colab": {
          "base_uri": "https://localhost:8080/"
        }
      },
      "execution_count": 1,
      "outputs": [
        {
          "output_type": "stream",
          "name": "stdout",
          "text": [
            "0\n",
            "1\n",
            "2\n",
            "3\n"
          ]
        }
      ]
    },
    {
      "cell_type": "markdown",
      "source": [
        "The logic behind this loop looks something like this:\n",
        "\n",
        "<img src = 'https://drive.google.com/uc?id=13-Mg6fyW5WmyIfot0Y7zpMI64cdC9GbU'>\n",
        "\n"
      ],
      "metadata": {
        "id": "z0_jvp6omBiq"
      }
    },
    {
      "cell_type": "markdown",
      "source": [
        "><b>Task:</b> Make a `for` loop that re-creates the text in the below image:\n",
        "\n",
        "<img src = 'https://drive.google.com/uc?id=1sdA0HB65T4ZEOojbIk1CMz_ZDa7U8Zj9'>\n"
      ],
      "metadata": {
        "id": "mFyG0u6Fn_1R"
      }
    },
    {
      "cell_type": "code",
      "source": [
        "# Your code here\n",
        "values = range(3)\n",
        "for i in values:\n",
        "  print('you son of a bitch im in')\n",
        "print('you son of a bitch im out')"
      ],
      "metadata": {
        "id": "vHkj-HvgoZZw",
        "outputId": "919f4d6b-fb48-4826-f8d6-5e67a80127ea",
        "colab": {
          "base_uri": "https://localhost:8080/"
        }
      },
      "execution_count": 9,
      "outputs": [
        {
          "output_type": "stream",
          "name": "stdout",
          "text": [
            "you son of a bitch im in\n",
            "you son of a bitch im in\n",
            "you son of a bitch im in\n",
            "you son of a bitch im out\n"
          ]
        }
      ]
    },
    {
      "cell_type": "markdown",
      "source": [
        "Sometimes it is useful to have access to the indices of the values when iterating over a list. We can use the `enumerate` function for this:"
      ],
      "metadata": {
        "id": "oly4tp45o-TO"
      }
    },
    {
      "cell_type": "code",
      "source": [
        "for idx, x in enumerate(range(-3,3)):\n",
        "    print(idx, x)"
      ],
      "metadata": {
        "id": "ztt6ZJFMpFHH",
        "outputId": "d12efcda-dc1d-4fa5-87b3-1d23c8fd589b",
        "colab": {
          "base_uri": "https://localhost:8080/"
        }
      },
      "execution_count": 10,
      "outputs": [
        {
          "output_type": "stream",
          "name": "stdout",
          "text": [
            "0 -3\n",
            "1 -2\n",
            "2 -1\n",
            "3 0\n",
            "4 1\n",
            "5 2\n"
          ]
        }
      ]
    },
    {
      "cell_type": "markdown",
      "source": [
        "### List Comprehensions\n",
        "\n",
        "List comprehensions are a very compact way to create lists using a `for` loop:"
      ],
      "metadata": {
        "id": "49vzTsuPpWOK"
      }
    },
    {
      "cell_type": "code",
      "source": [
        "# Create a list of values where x is squared for 0, 1, 2, 3, and 4.\n",
        "\n",
        "list_1 = [x**2 for x in range(0,5)]\n",
        "\n",
        "print(list_1)"
      ],
      "metadata": {
        "id": "MYBD6DbYpZ8t",
        "outputId": "f22fd45b-cdf3-4f19-d796-d3ba4272f99d",
        "colab": {
          "base_uri": "https://localhost:8080/"
        }
      },
      "execution_count": 11,
      "outputs": [
        {
          "output_type": "stream",
          "name": "stdout",
          "text": [
            "[0, 1, 4, 9, 16]\n"
          ]
        }
      ]
    },
    {
      "cell_type": "markdown",
      "source": [
        "### While loops\n",
        "\n",
        "The operator `while` lets you continue to run a loop as long as something is true.\n",
        "\n",
        "While loops always have the structure\n",
        "\n",
        "```\n",
        "while condition:\n",
        "  # Loop contents\n",
        "```  "
      ],
      "metadata": {
        "id": "ffUwbF1CpfDR"
      }
    },
    {
      "cell_type": "code",
      "source": [
        "message = 'still working'\n",
        "counter = 0\n",
        "\n",
        "while counter < 5:\n",
        "    print(message)\n",
        "    \n",
        "    counter = counter + 1\n",
        "    \n",
        "print(\"done\")"
      ],
      "metadata": {
        "id": "xeyV8FrHp0Bu",
        "outputId": "49f213d0-3fe0-4435-b410-65ab027e0436",
        "colab": {
          "base_uri": "https://localhost:8080/"
        }
      },
      "execution_count": 12,
      "outputs": [
        {
          "output_type": "stream",
          "name": "stdout",
          "text": [
            "still working\n",
            "still working\n",
            "still working\n",
            "still working\n",
            "still working\n",
            "done\n"
          ]
        }
      ]
    },
    {
      "cell_type": "markdown",
      "source": [
        "### Continue operator\n",
        "\n",
        "<code>continue</code> is a special operator to jump ahead to the next iteration of a loop."
      ],
      "metadata": {
        "id": "FEMtTGXzp8Kz"
      }
    },
    {
      "cell_type": "code",
      "source": [
        "lst = [0, 1, 2, 3]\n",
        "\n",
        "for item in lst:\n",
        "    \n",
        "    if item == 2:\n",
        "        continue\n",
        "    \n",
        "    print(item)"
      ],
      "metadata": {
        "id": "k4GJcHFlq3d_",
        "outputId": "3363fc66-3143-4eb2-bf03-bb4ef164682f",
        "colab": {
          "base_uri": "https://localhost:8080/"
        }
      },
      "execution_count": 13,
      "outputs": [
        {
          "output_type": "stream",
          "name": "stdout",
          "text": [
            "0\n",
            "1\n",
            "3\n"
          ]
        }
      ]
    },
    {
      "cell_type": "markdown",
      "source": [
        "><b>Task:</b> Re-create the above <code>for</code> loop, but have it skip to the next item if the item equals 1 *or* 2."
      ],
      "metadata": {
        "id": "h6uoTYdiq94Y"
      }
    },
    {
      "cell_type": "code",
      "source": [
        "# Your code here\n",
        "\n",
        "lst = [0, 1, 2, 3]\n",
        "for i in lst:\n",
        "  if i==1 or i==2: \n",
        "    continue \n",
        "  print(i)"
      ],
      "metadata": {
        "id": "VOaTCVL4rdFQ",
        "outputId": "22841130-3494-4cf0-dab5-e84febfab145",
        "colab": {
          "base_uri": "https://localhost:8080/"
        }
      },
      "execution_count": 36,
      "outputs": [
        {
          "output_type": "stream",
          "name": "stdout",
          "text": [
            "0\n",
            "3\n"
          ]
        }
      ]
    },
    {
      "cell_type": "markdown",
      "source": [
        "### Applying loops to neuroscience data\n",
        "\n",
        "We'll work with our Patch-Seq dataset (portal.brain-map.org) for these exercises\n",
        "\n",
        "Create a code cell below that imports the <code>patch_seq_expanded.csv</code> file from our class GitHub repo as a <code>Pandas DataFrame</code> variable called <code>patch_seq</code>."
      ],
      "metadata": {
        "id": "9WvtBF_Qu14c"
      }
    },
    {
      "cell_type": "code",
      "source": [
        "# Your code here\n",
        "import pandas as pd\n",
        "url= ('https://raw.githubusercontent.com/hallockh/neur_265/main/patch_seq_expanded.csv')\n",
        "patch_seq= pd.read_csv(url)\n",
        "print(patch_seq)"
      ],
      "metadata": {
        "id": "JB-svTqsvg08",
        "outputId": "021eb694-e70a-496d-9dfc-2ceeaa6f42ba",
        "colab": {
          "base_uri": "https://localhost:8080/"
        }
      },
      "execution_count": 47,
      "outputs": [
        {
          "output_type": "stream",
          "name": "stdout",
          "text": [
            "           ISI  Fast_Trough Marker\n",
            "0    77.337143   -49.899998    Sst\n",
            "1    17.177895   -44.462498    Sst\n",
            "2    48.294737   -47.350002    Sst\n",
            "3     8.980000   -45.656254    Sst\n",
            "4    30.315385   -50.737499    Sst\n",
            "..         ...          ...    ...\n",
            "360  11.052333   -54.743752  Pvalb\n",
            "361   8.860360   -64.875008  Pvalb\n",
            "362   9.192897   -51.312504  Pvalb\n",
            "363  10.544731   -52.281254  Pvalb\n",
            "364  16.396364   -61.437504  Pvalb\n",
            "\n",
            "[365 rows x 3 columns]\n"
          ]
        }
      ]
    },
    {
      "cell_type": "markdown",
      "source": [
        "Look at this variable below. There should be three column headers: <code>Marker</code>, <code>ISI</code>, and <code>Fast_Trough</code>. You're already familiar with <code>Marker</code> and <code>ISI</code>, and you were introduced to <code>Fast_Trough</code> last week when we looked at the minimum value of the membrane potential during the undershoot.\n",
        "\n",
        "![](https://github.com/ajuavinett/CellTypesLesson/blob/master/docs/ap_features.png?raw=true)"
      ],
      "metadata": {
        "id": "zGHc73ztviG8"
      }
    },
    {
      "cell_type": "code",
      "source": [
        "# Look at your patch_seq variable here\n",
        "\n"
      ],
      "metadata": {
        "id": "viGwZ-l-wV1H"
      },
      "execution_count": null,
      "outputs": []
    },
    {
      "cell_type": "markdown",
      "source": [
        "Let's create a loop that will make a scatter plot of <code>ISI</code> vs. <code>Fast_Trough</code> only for *Sst*-containing neurons"
      ],
      "metadata": {
        "id": "Wh_lYlrgwsA7"
      }
    },
    {
      "cell_type": "code",
      "source": [
        "from matplotlib import pyplot as plt\n",
        "\n",
        "patch_length = len(patch_seq)\n",
        "\n",
        "for i in range(patch_length):\n",
        "  if patch_seq.iloc[i,2] == 'Sst':\n",
        "    plt.scatter(patch_seq.iloc[i,0],patch_seq.iloc[i,1],color = \"blue\")"
      ],
      "metadata": {
        "id": "nXTd3Jv-xepS",
        "outputId": "7a9db461-edd2-4bb3-b0e5-98a6864abb44",
        "colab": {
          "base_uri": "https://localhost:8080/",
          "height": 266
        }
      },
      "execution_count": 48,
      "outputs": [
        {
          "output_type": "display_data",
          "data": {
            "text/plain": [
              "<Figure size 432x288 with 1 Axes>"
            ],
            "image/png": "[encoded data removed]"
          },
          "metadata": {
            "needs_background": "light"
          }
        }
      ]
    },
    {
      "cell_type": "markdown",
      "source": [
        "><b>Task:</b> Re-run the above code cell, but create labels for your x-axis and y-axis. "
      ],
      "metadata": {
        "id": "mikpLldO3sHo"
      }
    },
    {
      "cell_type": "markdown",
      "source": [
        "><b>Task:</b> Create a <code>for</code> loop that will make a scatter plot of <code>ISI</code> vs. <code>Fast Trough</code> for *Sst*-containing neurons in blue, and *Pvalb*-containing neurons in red. Label your axes."
      ],
      "metadata": {
        "id": "s5Iad3_24T3L"
      }
    },
    {
      "cell_type": "code",
      "source": [
        "# Your code here\n",
        "from matplotlib import pyplot as plt\n",
        "\n",
        "patch_length = len(patch_seq)\n",
        "\n",
        "for i in range(patch_length):\n",
        "  if patch_seq.iloc[i,2] == 'Sst':\n",
        "    plt.scatter(patch_seq.iloc[i,0],patch_seq.iloc[i,1],color = \"blue\")\n",
        "  if patch_seq.iloc[i,2] == 'Pvalb':\n",
        "    plt.scatter(patch_seq.iloc[i,0],patch_seq.iloc[i,1],color = \"red\")\n",
        "    \n",
        "plt.ylabel('fast_trough')\n",
        "plt.xlabel('ISI')"
      ],
      "metadata": {
        "id": "G9jhJINE5nld",
        "outputId": "cfd18083-f4f9-42d7-a5f1-b3cbf4ad65a0",
        "colab": {
          "base_uri": "https://localhost:8080/",
          "height": 296
        }
      },
      "execution_count": 52,
      "outputs": [
        {
          "output_type": "execute_result",
          "data": {
            "text/plain": [
              "Text(0.5, 0, 'ISI')"
            ]
          },
          "metadata": {},
          "execution_count": 52
        },
        {
          "output_type": "display_data",
          "data": {
            "text/plain": [
              "<Figure size 432x288 with 1 Axes>"
            ],
            "image/png": "[encoded data removed]"
          },
          "metadata": {
            "needs_background": "light"
          }
        }
      ]
    },
    {
      "cell_type": "markdown",
      "source": [
        "# Functions\n",
        "\n",
        "If we have a useful chunk of code like the one you created above to make a scatter plot, we can save that as a function to easily recall later, using the keyword `def`. The syntax for functions is similar to loops and if statements:\n",
        "\n",
        "```\n",
        "def function():\n",
        "  print(value)\n",
        "```\n",
        "\n"
      ],
      "metadata": {
        "id": "XjI5ZAgz56zr"
      }
    },
    {
      "cell_type": "code",
      "source": [
        "# Make a function that makes a scatter plot for Sst neurons in blue, and Pvalb neurons in red\n",
        "\n",
        "def makeScatter():\n",
        "    # First, write docstring:\n",
        "    \"\"\"\n",
        "    This is a function that will create a scatter plot of ISI vs. Fast Trough for Sst-containing and Pvalb-containing neurons.\n",
        "    \"\"\"\n",
        "    # Your code here!\n",
        "\n",
        "    patch_length = len(patch_seq)\n",
        "    for i in range(patch_length):\n",
        "      if patch_seq.iloc[i,2] == 'Sst':\n",
        "        plt.scatter(patch_seq.iloc[i,0],patch_seq.iloc[i,1],color = \"blue\")\n",
        "      if patch_seq.iloc[i,2] == 'Pvalb':\n",
        "        plt.scatter(patch_seq.iloc[i,0],patch_seq.iloc[i,1],color = \"red\") \n",
        "        plt.ylabel('fast_trough')\n",
        "        plt.xlabel('ISI')\n",
        "\n",
        "plt.show()    "
      ],
      "metadata": {
        "id": "15yb2fYo6Xbd"
      },
      "execution_count": 72,
      "outputs": []
    },
    {
      "cell_type": "code",
      "source": [
        "makeScatter()"
      ],
      "metadata": {
        "id": "EDN-4a1-7ppt",
        "outputId": "1840260d-8d60-473f-a96d-bf461f0b74f3",
        "colab": {
          "base_uri": "https://localhost:8080/",
          "height": 279
        }
      },
      "execution_count": 73,
      "outputs": [
        {
          "output_type": "display_data",
          "data": {
            "text/plain": [
              "<Figure size 432x288 with 1 Axes>"
            ],
            "image/png": "[encoded data removed]"
          },
          "metadata": {
            "needs_background": "light"
          }
        }
      ]
    }
  ]
}