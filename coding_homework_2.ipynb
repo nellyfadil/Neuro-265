{
  "nbformat": 4,
  "nbformat_minor": 0,
  "metadata": {
    "colab": {
      "provenance": [],
      "include_colab_link": true
    },
    "kernelspec": {
      "name": "python3",
      "display_name": "Python 3"
    },
    "language_info": {
      "name": "python"
    }
  },
  "cells": [
    {
      "cell_type": "markdown",
      "metadata": {
        "id": "view-in-github",
        "colab_type": "text"
      },
      "source": [
        "<a href=\"https://colab.research.google.com/github/nellyfadil/Neuro-265/blob/main/coding_homework_2.ipynb\" target=\"_parent\"><img src=\"https://colab.research.google.com/assets/colab-badge.svg\" alt=\"Open In Colab\"/></a>"
      ]
    },
    {
      "cell_type": "markdown",
      "source": [
        "# Coding Homework #2\n",
        "\n",
        "**Instructions:**\n",
        "\n",
        "1. Make a *Markdown Cell* that contains the following information:\n",
        "- Your name (small header)\n",
        "- The name of this class (italicized)\n",
        "- The date (bolded)\n",
        "\n",
        "2. Make a *Code Cell* that imports <code>numpy</code> as <code>np</code>, <code>matplotlib.pyplot</code> as <code>plt</code>, <code>statistics</code> as <code>st</code>.\n",
        "\n",
        "3. Make a *Code Cell* that imports your <code>v_rest1.csv</code> and <code>v_rest2.csv</code> files as <code>numpy</code> arrays called <code>v_rest1</code> and <code>v_rest2</code> respectively. You're used to doing this with the <code>pd.read_csv</code> function for <code>pandas</code>, but can accomplish the same thing using the <code>np.loadtxt</code> function for <code>numpy</code>.\n",
        "\n",
        "4. Make a *Code Cell* that concatenates <code>v_rest1</code> and <code>v_rest2</code> into a matrix with 2 rows and 13 columns named <code>v_rest</code>.\n",
        "\n",
        "5. Make a *Code Cell* that prints the <code>size</code> of <code>v_rest</code>.\n",
        "\n",
        "6. Make a *Code Cell* that returns the first row of <code>v_rest</code>.\n",
        "\n",
        "7. Make a *Code Cell* that returns the sum of the values in the third column of <code>v_rest</code>. You can accomplish this by using <code>v_rest[].sum()</code>, with your index inside of the brackets. As an example, if I wanted to return the sum of the first row of <code>v_rest</code>, I could use <code>v_rest[0].sum()</code> to get my answer.\n",
        "\n",
        "8. Make a *Code Cell* that returns the second-to-last value in the second row of <code>v_rest</code> (use negative indexing for the column value).\n",
        "\n",
        "9. Create a *Code Cell* that makes a histogram of the values in the first row of <code>v_rest</code> (you can do this by using the <code>plt.hist()</code> function). Label your axes.\n",
        "\n",
        "10. Create a *Code Cell* that takes the mean of the values in the first row of <code>v_rest</code>, and assigns the mean to a variable called <code>v_rest_mean_1</code>. Do the same thing for the second row of <code>v_rest</code>, and assign the mean value of the second row to a variable called <code>v_rest_mean_2</code>. You can get the means by using the <code>st.mean()</code> function (remember to put what you want the mean *of* inside the parentheses of the function).\n",
        "\n",
        "11. Create a *Markdown Cell* that describes the difference in means between the two rows. Which one is bigger?\n",
        "\n",
        "12. How can we test whether the difference in means is *meaningful* (statistically significant)? When we're comparing two means, we can use a t-test (assuming the data are normally distributed). To use a t-test on our data, we will first need to import the <code>scipy</code> package. Create a new *Code Cell* that runs the following:\n",
        "\n",
        "<code>\n",
        "import scipy.stats as stats\n",
        "</code>\n",
        "\n",
        "13. Now, we can perform a t-test on the two rows of <code>v_rest</code>. To do this, create a new *Code Cell* that uses the <code>stats.ttest_ind()</code> function - for example:\n",
        "\n",
        "<code>\n",
        "stats.ttest_ind(row1, row2)\n",
        "</code>\n",
        "\n",
        "Replace <code>row1</code> and <code>row2</code> in this case with the first and second rows, respectively, of <code>v_rest</code>.\n",
        "\n",
        "14. Make a *Markdown Cell* that describes the results of your t-test. You should have <code>statistic</code> variable and a <code>pvalue</code> variable. The way to interpret your p-value is as a probability - specifically, the probability that the mean of one distribution could be found in the second distribution. Typically, results are considered to be \"statistically significant\" if the probability is lower than 5% - or 0.05. What is your p-value? Based on this p-value, do you think it is likely that the means are significantly different, or do you think it is likely that they are not?\n",
        "\n",
        "15. Make sure to add at least one line with a <code>#</code> in front of it to each *Code Cell* to describe what each cell does.\n",
        "\n",
        "16. Save a copy of this notebook to your GitHub repo with the title \"coding_homework_2.ipynb\"."
      ],
      "metadata": {
        "id": "CXEcCBSA_prs"
      }
    },
    {
      "cell_type": "markdown",
      "source": [
        "####Nelly Fadil\n",
        "*Neural Data Analysis*\n",
        "\n",
        "**2/16/23**\n"
      ],
      "metadata": {
        "id": "WA5O1UrPOoPq"
      }
    },
    {
      "cell_type": "code",
      "source": [
        "import numpy as np \n",
        "import matplotlib.pyplot as plt \n",
        "import statistics as st\n"
      ],
      "metadata": {
        "id": "il70egTjPRJZ"
      },
      "execution_count": 3,
      "outputs": []
    },
    {
      "cell_type": "code",
      "source": [
        "#code cell that imports files as numpy array and read w np.loadtxt\n",
        "url1=('https://raw.githubusercontent.com/nellyfadil/Neuro-265/main/vrest_1%20-%20vrest_1.csv')\n",
        "v_rest1 = np.loadtxt(url1)\n",
        "print(v_rest1)\n",
        "v_rest1=np.array(url1)\n",
        "print(type(v_rest1))\n",
        "\n",
        "url2=('https://raw.githubusercontent.com/nellyfadil/Neuro-265/main/vrest_2%20-%20vrest_2.csv')\n",
        "v_rest2 = np.loadtxt(url2)\n",
        "print(v_rest2)\n",
        "v_rest2=np.array(url2)\n",
        "print(type(v_rest2))\n"
      ],
      "metadata": {
        "id": "Zs3SegqfQNyK",
        "outputId": "2156c765-fb03-44ef-92b8-52d436f8dd27",
        "colab": {
          "base_uri": "https://localhost:8080/"
        }
      },
      "execution_count": 21,
      "outputs": [
        {
          "output_type": "stream",
          "name": "stdout",
          "text": [
            "[-76.7112306  -67.83689728 -69.75259399 -76.24490674 -77.94432772\n",
            " -68.06554222 -55.36141586 -66.89855051 -69.30871887 -72.37990709\n",
            " -69.84929562 -74.32687437 -80.12268448]\n",
            "<class 'numpy.ndarray'>\n",
            "[-73.21678569 -77.28054255 -70.8911438  -75.87959544 -77.6607605\n",
            " -72.20321757 -74.98437907 -71.75507228 -64.71941667 -67.72165585\n",
            " -74.73169292 -65.14216347 -76.8552475 ]\n",
            "<class 'numpy.ndarray'>\n"
          ]
        }
      ]
    },
    {
      "cell_type": "code",
      "source": [
        "#concatenates vrests 1 and 2 into matrix named v_rest 2rows, 13columns "
      ],
      "metadata": {
        "id": "yBiTCd0ogYP7"
      },
      "execution_count": null,
      "outputs": []
    },
    {
      "cell_type": "code",
      "source": [
        "#print size of v_rest"
      ],
      "metadata": {
        "id": "W69wZMyLgkYX"
      },
      "execution_count": 22,
      "outputs": []
    },
    {
      "cell_type": "code",
      "source": [
        "#returns the first row of v_rest"
      ],
      "metadata": {
        "id": "a9KNYofjgmgB"
      },
      "execution_count": null,
      "outputs": []
    },
    {
      "cell_type": "code",
      "source": [
        "#returns the sum of the values in the 3rd column of v_rest "
      ],
      "metadata": {
        "id": "JOlk69fogtLG"
      },
      "execution_count": null,
      "outputs": []
    },
    {
      "cell_type": "code",
      "source": [
        "#returns the second to last value in the second row of v_rest (neg indexing)"
      ],
      "metadata": {
        "id": "lQ3RbgwKgzOx"
      },
      "execution_count": null,
      "outputs": []
    },
    {
      "cell_type": "code",
      "source": [
        "#make histogram of values in first row of v_rest, label axes \n"
      ],
      "metadata": {
        "id": "fuisURA2g6f2"
      },
      "execution_count": null,
      "outputs": []
    },
    {
      "cell_type": "code",
      "source": [
        "#"
      ],
      "metadata": {
        "id": "uJTEeGFHhEuq"
      },
      "execution_count": null,
      "outputs": []
    }
  ]
}