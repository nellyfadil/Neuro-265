{
  "nbformat": 4,
  "nbformat_minor": 0,
  "metadata": {
    "colab": {
      "provenance": [],
      "include_colab_link": true
    },
    "kernelspec": {
      "name": "python3",
      "display_name": "Python 3"
    },
    "language_info": {
      "name": "python"
    }
  },
  "cells": [
    {
      "cell_type": "markdown",
      "metadata": {
        "id": "view-in-github",
        "colab_type": "text"
      },
      "source": [
        "<a href=\"https://colab.research.google.com/github/nellyfadil/Neuro-265/blob/main/01_25_23.ipynb\" target=\"_parent\"><img src=\"https://colab.research.google.com/assets/colab-badge.svg\" alt=\"Open In Colab\"/></a>"
      ]
    },
    {
      "cell_type": "markdown",
      "source": [
        "# Programming Fundamentals\n",
        "\n",
        "## Syntax, Expressions, and Variables\n",
        "\n",
        "This notebook will introduce you to Google Colaboratory. We'll also go over the basics of Python syntax. \n",
        "\n",
        "### At the end of this notebook, you'll be able to:\n",
        "* Use Google Colab to run Python3 code\n",
        "* Use basic <b>arithmetic operations</b> in Python\n",
        "* Assign <b>variables</b> and manipulate them\n",
        "* Recognize different **types** of variables\n",
        "\n",
        "\n"
      ],
      "metadata": {
        "id": "aie25Oh_I_Ic"
      }
    },
    {
      "cell_type": "markdown",
      "source": [
        "# What is Google Colaboratory?\n",
        "\n",
        "Google Colaboratory is a Jupyter notebook that is hosted by Google's servers.\n",
        "\n",
        "A <b>Jupyter notebook</b> is a way to combine executable code, code ouputs, and text into one connected file.\n",
        "\n",
        "When you run code in Colaboratory, the code is being executed by CPUs (or GPUs) that belong to Google. The advantage of this is that you don't need to use any **local** resources to run your code.\n",
        "\n",
        "Jupyter notebooks have two types of cells:\n",
        "\n",
        "* A **Markdown** cell (like this one) - used for adding text to your notebook\n",
        "* A **Code** cell - used for executing Python code and viewing output\n",
        "\n"
      ],
      "metadata": {
        "id": "zbOhwC1-KFsr"
      }
    },
    {
      "cell_type": "markdown",
      "source": [
        "### Using Markdown\n",
        "\n",
        "Markdown is useful because it can be formatted using simple symbols.\n",
        "\n",
        "* You can create bulleted lists using asterisks.\n",
        "* Similarly, you can create numbered lists using numbers.\n",
        "* You can **bold** with two asterisks or underscores on either side ('**bold**') or *italicize* with one asterisk or underscore ('*italicize*')\n",
        "* Pound signs (#) create headers. More pound signs means a smaller header.\n",
        "\n",
        "<div class=\\\"alert alert-success\\\"><b>Task:</b> Edit the markdown cell below with a quick biography of yourself. You should have your name as a big header, a short quippy subtitle for yourself as a smaller header, and three bullet points that use both <b>bold</b> and <i>italic</i>.<div>\n",
        "\n"
      ],
      "metadata": {
        "id": "t4WBwNQXLlwl"
      }
    },
    {
      "cell_type": "markdown",
      "source": [
        "### Edit this markdown cell!\n",
        "\n",
        "#Nelly Fadil\n",
        "###neuroscience major and icecream enthusiast \n",
        "\n",
        "* I have a twin brother\n",
        "* I can surf *(wouldnt say Im good at it)* \n",
        "* My **_favorite_** season is fall  "
      ],
      "metadata": {
        "id": "Nd8U-i-wNPIJ"
      }
    },
    {
      "cell_type": "markdown",
      "source": [
        "### Using Code cells\n",
        "\n",
        "Code cells will be read by the Python interpretor. In other words, the Python kernel will run whatever it recognizes as code within the cell.\n",
        "\n",
        "<div class=\\\"alert alert-success\\\"><b>Task:</b> Run the code cell below (see instructions within the cell)."
      ],
      "metadata": {
        "id": "iwvg2m1mNVhJ"
      }
    },
    {
      "cell_type": "code",
      "source": [
        "# In Python, anything with a \"#\" in front of it is code annotation, and is not read by the computer.\n",
        "# Run this cell by clicking in it and then pressing shift and enter/return simultaneously.\n",
        "# The line below will print a message for us. After you import it, Python will print a message\n",
        "# (having printed messages like these is a really nice way to check that your cell actually ran!)\n",
        "print('Nice work!')"
      ],
      "metadata": {
        "id": "MA9ZL9blNyBP",
        "outputId": "b0718072-f242-44da-a996-74154a04e943",
        "colab": {
          "base_uri": "https://localhost:8080/"
        }
      },
      "execution_count": null,
      "outputs": [
        {
          "output_type": "stream",
          "name": "stdout",
          "text": [
            "Nice work!\n"
          ]
        }
      ]
    },
    {
      "cell_type": "markdown",
      "source": [
        "### Python Expressions\n",
        "\n",
        "We can perform various arithmetic operations in Python:\n",
        "\n",
        "|  Symbol  |     Operation     | Usage |\n",
        "|:--------:|:-----------------:|:-----:|\n",
        "|     +    |      Addition     |  10+2 |\n",
        "|     -    |    Subtraction    |  10-2 |\n",
        "|     *    |   Multiplication  |  10*2 |\n",
        "|     /    |      Division     |  10/2 |\n",
        "|    **    |      Exponent     | 10**2 |\n",
        "|     %    |       Modulo      | 10%2  |\n",
        "\n",
        "Notes:\n",
        "\n",
        "* The default order of operations is the same as in mathematics! (PEMDAS)\n",
        "* If you want a whole number from your division, use // instead"
      ],
      "metadata": {
        "id": "YI_QJYWIObm7"
      }
    },
    {
      "cell_type": "markdown",
      "source": [
        "<div class=\\\"alert alert-success\\\"><b>Task:</b> Try each of the operators above. Before using the modulo operator, predict what it will output, and make sure it produces what you expect."
      ],
      "metadata": {
        "id": "WLb61-n3QWYt"
      }
    },
    {
      "cell_type": "code",
      "source": [
        "10%4\n",
        "\n"
      ],
      "metadata": {
        "id": "4c85jl4PQxzS",
        "outputId": "8198b5e9-94e1-4423-c1c8-e8a62aabe8c7",
        "colab": {
          "base_uri": "https://localhost:8080/"
        }
      },
      "execution_count": null,
      "outputs": [
        {
          "output_type": "execute_result",
          "data": {
            "text/plain": [
              "2"
            ]
          },
          "metadata": {},
          "execution_count": 10
        }
      ]
    },
    {
      "cell_type": "markdown",
      "source": [
        "## Variables\n",
        "\n",
        "Variables enable us to store a value and come back to it later. They are defined with 'name = value'. *Assignment is not the same thing as equality*, as in mathematics.\n",
        "\n",
        "### Assigning variables"
      ],
      "metadata": {
        "id": "HSx8u625Sf1Z"
      }
    },
    {
      "cell_type": "markdown",
      "source": [
        "<div class=\\\"alert alert-success\\\"><b>Task:</b> Create two variables: a & b. Then, use an expression that combines a and b, and assign this to c. In the end, c should be equal to 6."
      ],
      "metadata": {
        "id": "o2fDcFsDSyaO"
      }
    },
    {
      "cell_type": "code",
      "source": [
        "# Let's save a few integers and then manipulate them.\n",
        "a = 3\n",
        "b = 3\n"
      ],
      "metadata": {
        "id": "37-uXk8hTAdy",
        "outputId": "a3dd4d9a-1146-4c86-ff2f-a8f3d984062c",
        "colab": {
          "base_uri": "https://localhost:8080/"
        }
      },
      "execution_count": null,
      "outputs": [
        {
          "output_type": "execute_result",
          "data": {
            "text/plain": [
              "6"
            ]
          },
          "metadata": {},
          "execution_count": 16
        }
      ]
    },
    {
      "cell_type": "markdown",
      "source": [
        "<b>Note</b>: Most code cells will not give you an output unless you ask for it. You can use 'print()' to output a variable or string. However, cells that *only* contain one variable will print its value.\n",
        "\n",
        "<div class=\\\"alert alert-success\\\"><b>Task:</b> Create a cell below and output your variable c."
      ],
      "metadata": {
        "id": "BAeAmJMYTHh4"
      }
    },
    {
      "cell_type": "code",
      "source": [
        "c"
      ],
      "metadata": {
        "id": "eJF9ioybyw4L",
        "outputId": "861668ce-60d4-40ab-a655-4e302f5b8170",
        "colab": {
          "base_uri": "https://localhost:8080/"
        }
      },
      "execution_count": null,
      "outputs": [
        {
          "output_type": "execute_result",
          "data": {
            "text/plain": [
              "6"
            ]
          },
          "metadata": {},
          "execution_count": 17
        }
      ]
    },
    {
      "cell_type": "markdown",
      "source": [
        "Usefully, you can run your cells out of order. This is useful for testing and debugging. Change your equation for 'c' above, and re-run the cell with 'c' alone to check its resulting value."
      ],
      "metadata": {
        "id": "AvV9XKkfTyvz"
      }
    },
    {
      "cell_type": "markdown",
      "source": [
        "### Types of Variables\n",
        "\n",
        "Variables can be different types. Python lets you change the type of variables (the function is in parentheses below), however, *you cannot combine types*.\n",
        "\n",
        "* Integers ('int')\n",
        "* String ('str'): letters, numbers, symbols, spaces\n",
        "* Float ('float'): any number with a decimal point (floating point number)\n",
        "\n",
        "You can check what type your variable is by using 'type(variable)'.\n",
        "\n",
        "<b>Note</b>: If you ever need help using a function (e.g., 'type') in Jupyter notebook, you can enter the function followed by a question mark or 'help(function)'. For example, 'type?' or 'help(type)'\n",
        "\n",
        "<b>Hint</b>: You can wrap commands in other commands. For example, we could write 'print(type(all))'.\n",
        "\n",
        "<div class=\\\"alert alert-success\\\"><b>Task:</b> In the cell below, check the type of your variable c."
      ],
      "metadata": {
        "id": "kpMtiafvT9fI"
      }
    },
    {
      "cell_type": "code",
      "source": [
        "# Check the type of c here\n",
        "help(type)"
      ],
      "metadata": {
        "id": "gaqtplZbU-7F",
        "outputId": "b0302942-cdca-41e7-d047-90ff55013d8e",
        "colab": {
          "base_uri": "https://localhost:8080/"
        }
      },
      "execution_count": null,
      "outputs": [
        {
          "output_type": "stream",
          "name": "stdout",
          "text": [
            "Help on class type in module builtins:\n",
            "\n",
            "class type(object)\n",
            " |  type(object_or_name, bases, dict)\n",
            " |  type(object) -> the object's type\n",
            " |  type(name, bases, dict) -> a new type\n",
            " |  \n",
            " |  Methods defined here:\n",
            " |  \n",
            " |  __call__(self, /, *args, **kwargs)\n",
            " |      Call self as a function.\n",
            " |  \n",
            " |  __delattr__(self, name, /)\n",
            " |      Implement delattr(self, name).\n",
            " |  \n",
            " |  __dir__(self, /)\n",
            " |      Specialized __dir__ implementation for types.\n",
            " |  \n",
            " |  __getattribute__(self, name, /)\n",
            " |      Return getattr(self, name).\n",
            " |  \n",
            " |  __init__(self, /, *args, **kwargs)\n",
            " |      Initialize self.  See help(type(self)) for accurate signature.\n",
            " |  \n",
            " |  __instancecheck__(self, instance, /)\n",
            " |      Check if an object is an instance.\n",
            " |  \n",
            " |  __repr__(self, /)\n",
            " |      Return repr(self).\n",
            " |  \n",
            " |  __setattr__(self, name, value, /)\n",
            " |      Implement setattr(self, name, value).\n",
            " |  \n",
            " |  __sizeof__(self, /)\n",
            " |      Return memory consumption of the type object.\n",
            " |  \n",
            " |  __subclasscheck__(self, subclass, /)\n",
            " |      Check if a class is a subclass.\n",
            " |  \n",
            " |  __subclasses__(self, /)\n",
            " |      Return a list of immediate subclasses.\n",
            " |  \n",
            " |  mro(self, /)\n",
            " |      Return a type's method resolution order.\n",
            " |  \n",
            " |  ----------------------------------------------------------------------\n",
            " |  Class methods defined here:\n",
            " |  \n",
            " |  __prepare__(...)\n",
            " |      __prepare__() -> dict\n",
            " |      used to create the namespace for the class statement\n",
            " |  \n",
            " |  ----------------------------------------------------------------------\n",
            " |  Static methods defined here:\n",
            " |  \n",
            " |  __new__(*args, **kwargs)\n",
            " |      Create and return a new object.  See help(type) for accurate signature.\n",
            " |  \n",
            " |  ----------------------------------------------------------------------\n",
            " |  Data descriptors defined here:\n",
            " |  \n",
            " |  __abstractmethods__\n",
            " |  \n",
            " |  __dict__\n",
            " |  \n",
            " |  __text_signature__\n",
            " |  \n",
            " |  ----------------------------------------------------------------------\n",
            " |  Data and other attributes defined here:\n",
            " |  \n",
            " |  __base__ = <class 'object'>\n",
            " |      The base class of the class hierarchy.\n",
            " |      \n",
            " |      When called, it accepts no arguments and returns a new featureless\n",
            " |      instance that has no instance attributes and cannot be given any.\n",
            " |  \n",
            " |  __bases__ = (<class 'object'>,)\n",
            " |  \n",
            " |  __basicsize__ = 880\n",
            " |  \n",
            " |  __dictoffset__ = 264\n",
            " |  \n",
            " |  __flags__ = 2148291584\n",
            " |  \n",
            " |  __itemsize__ = 40\n",
            " |  \n",
            " |  __mro__ = (<class 'type'>, <class 'object'>)\n",
            " |  \n",
            " |  __weakrefoffset__ = 368\n",
            "\n"
          ]
        }
      ]
    },
    {
      "cell_type": "markdown",
      "source": [
        "Different operators in Python will produce different types of variables.\n",
        "\n",
        "<div class=\\\"alert alert-success\\\"><b>Task:</b> Compare the results of 12/2 and 12//2 by assigning the results of these operations to two different variables. Then, use the `int` and `float` functions to transform these variables into an integer and a float called: `result_int` and `result_float`.\n",
        "\n",
        "\n",
        "\n",
        "\n",
        "\n",
        "\n",
        "\n"
      ],
      "metadata": {
        "id": "-WNab5H-VBAS"
      }
    },
    {
      "cell_type": "code",
      "source": [
        "# Write your code here\n",
        "var1 = 12/2\n",
        "var2 = 12//2\n"
      ],
      "metadata": {
        "id": "yrrqqIhGVf3V"
      },
      "execution_count": null,
      "outputs": []
    },
    {
      "cell_type": "markdown",
      "source": [
        "<div class=\\\"alert alert-success\\\"><b>Task:</b> What happens when you add a float (result_float) and an integer (result_int)? Test below."
      ],
      "metadata": {
        "id": "Y1pTAkeYVmf0"
      }
    },
    {
      "cell_type": "code",
      "source": [
        "# Add your float and int here\n",
        "result= int(var1)\n",
        "result = float(var2)"
      ],
      "metadata": {
        "id": "5vBDV-pCVtnj"
      },
      "execution_count": null,
      "outputs": []
    },
    {
      "cell_type": "markdown",
      "source": [
        "We can use the command `round()` to round a float number to a whole number.\n",
        "\n",
        "<div class=\\\"alert alert-success\\\"><b>Task:</b> Try round with a float below, and print your result. What kind of variable does this create?"
      ],
      "metadata": {
        "id": "YHZNujEAVw6o"
      }
    },
    {
      "cell_type": "code",
      "source": [
        "var1= 12/2\n",
        "var2= 12//2\n",
        "result_int = int(var1)\n",
        "result_float = float(var2)\n",
        "result_int+result_float"
      ],
      "metadata": {
        "id": "CPhRwqKP3NrX",
        "outputId": "5b8f4e47-6ee2-455d-a17c-709ddf6f89af",
        "colab": {
          "base_uri": "https://localhost:8080/"
        }
      },
      "execution_count": null,
      "outputs": [
        {
          "output_type": "execute_result",
          "data": {
            "text/plain": [
              "12.0"
            ]
          },
          "metadata": {},
          "execution_count": 44
        }
      ]
    },
    {
      "cell_type": "markdown",
      "source": [
        "### Working with Strings\n",
        "\n",
        "Strings are represented by matching beginning & ending quotation marks. A few useful notes:\n",
        "\n",
        "* Quotation marks can be single (`'`) or double (`\"`); use single within double (we'll stick to single, most of the time)\n",
        "  * One single quotation mark within a pair of double quotation marks will be interpreted as an apostrophe (a single quotation mark).\n",
        "* Use `\\\\` to keep single or double quotation mark, instead of reading it as a string (e.g., for a quote or an apostrophe)\n",
        "* <b>Concatenate</b> strings (can be variables) with +\n",
        "\n",
        "<div class=\\\"alert alert-success\\\"><b>Task:</b> Assign your first name to a variable called `d` and your last name to a variable called `e`. Add the two variables together. What is the output? Multiply the two variables. What is the output?"
      ],
      "metadata": {
        "id": "7bZjKBWSV7sg"
      }
    },
    {
      "cell_type": "code",
      "source": [
        "# Create your variables here\n",
        "d = 'nelly'\n",
        "e= 'fadil'\n",
        "\n",
        "\n",
        "# Now, add them together\n",
        "d+e\n",
        "\n"
      ],
      "metadata": {
        "id": "6TKYJxGCXcUO",
        "outputId": "ae688896-5446-47d5-bc0d-2941652b0d80",
        "colab": {
          "base_uri": "https://localhost:8080/",
          "height": 35
        }
      },
      "execution_count": null,
      "outputs": [
        {
          "output_type": "execute_result",
          "data": {
            "text/plain": [
              "'nellyfadil'"
            ],
            "application/vnd.google.colaboratory.intrinsic+json": {
              "type": "string"
            }
          },
          "metadata": {},
          "execution_count": 50
        }
      ]
    },
    {
      "cell_type": "code",
      "source": [
        "# Finally, multiply them together\n",
        "d*e"
      ],
      "metadata": {
        "id": "KCitRrrcNX4Y",
        "outputId": "405a212e-33aa-416d-89ff-d3f9c2d91dfb",
        "colab": {
          "base_uri": "https://localhost:8080/",
          "height": 183
        }
      },
      "execution_count": null,
      "outputs": [
        {
          "output_type": "error",
          "ename": "TypeError",
          "evalue": "ignored",
          "traceback": [
            "\u001b[0;31m---------------------------------------------------------------------------\u001b[0m",
            "\u001b[0;31mTypeError\u001b[0m                                 Traceback (most recent call last)",
            "\u001b[0;32m<ipython-input-48-2b4e3ba9da3f>\u001b[0m in \u001b[0;36m<module>\u001b[0;34m\u001b[0m\n\u001b[1;32m      1\u001b[0m \u001b[0;31m# Finally, multiply them together\u001b[0m\u001b[0;34m\u001b[0m\u001b[0;34m\u001b[0m\u001b[0;34m\u001b[0m\u001b[0m\n\u001b[0;32m----> 2\u001b[0;31m \u001b[0md\u001b[0m\u001b[0;34m*\u001b[0m\u001b[0me\u001b[0m\u001b[0;34m\u001b[0m\u001b[0;34m\u001b[0m\u001b[0m\n\u001b[0m",
            "\u001b[0;31mTypeError\u001b[0m: can't multiply sequence by non-int of type 'str'"
          ]
        }
      ]
    },
    {
      "cell_type": "markdown",
      "source": [
        "<b>Task:</b> Create a new Code cell, and try adding '80' to your `d` variable. What is the output? Try multiplying your `e` variable by 80. What is the output? Try dividing your `e` variable by 80. What is the output?"
      ],
      "metadata": {
        "id": "GtC3eqPWKCRu"
      }
    },
    {
      "cell_type": "code",
      "source": [
        "80/e"
      ],
      "metadata": {
        "id": "yEcnFukG4uEy",
        "outputId": "4df55ff3-e34b-485c-9393-a388d769ed79",
        "colab": {
          "base_uri": "https://localhost:8080/",
          "height": 166
        }
      },
      "execution_count": null,
      "outputs": [
        {
          "output_type": "error",
          "ename": "TypeError",
          "evalue": "ignored",
          "traceback": [
            "\u001b[0;31m---------------------------------------------------------------------------\u001b[0m",
            "\u001b[0;31mTypeError\u001b[0m                                 Traceback (most recent call last)",
            "\u001b[0;32m<ipython-input-53-2c490c19bb5f>\u001b[0m in \u001b[0;36m<module>\u001b[0;34m\u001b[0m\n\u001b[0;32m----> 1\u001b[0;31m \u001b[0;36m80\u001b[0m\u001b[0;34m/\u001b[0m\u001b[0me\u001b[0m\u001b[0;34m\u001b[0m\u001b[0;34m\u001b[0m\u001b[0m\n\u001b[0m",
            "\u001b[0;31mTypeError\u001b[0m: unsupported operand type(s) for /: 'int' and 'str'"
          ]
        }
      ]
    },
    {
      "cell_type": "markdown",
      "source": [
        "We can use the `print` function to show more than one variable, as well as variables of different types. You can separate items within `print` by commas to print multiple variables, e.g. `print(a,b,\"name\")`. You can also print variables within strings by using `print(f)`, and calling variables in `{}`. \n",
        "\n",
        "<b>Task:</b> Create a variable, `age`, that is equal to your age in years. Print a sentence that says `'My name is {first name} {last name}, and I am {age} years old'.`"
      ],
      "metadata": {
        "id": "F1Ro2oFrLFum"
      }
    },
    {
      "cell_type": "code",
      "source": [
        "age = 21\n",
        "print(f'my name is {d} {e}, and I am {age} years old')"
      ],
      "metadata": {
        "id": "JZgExJO26Mbx",
        "outputId": "fb7442fe-ca04-4b19-ca43-13675c51d291",
        "colab": {
          "base_uri": "https://localhost:8080/"
        }
      },
      "execution_count": null,
      "outputs": [
        {
          "output_type": "stream",
          "name": "stdout",
          "text": [
            "my name is Nelly fadil, and I am 21 years old\n"
          ]
        }
      ]
    },
    {
      "cell_type": "markdown",
      "source": [
        "As we're working through this notebook, the kernel also stores your namespace - all the variables and code that you have declared (executed). You can check which variables and functions are available with the command `%who`, or `%whos` (for more detailed information)\n",
        "\n",
        "<b>Task:</b> Use the `who(s)` command to check your variables below."
      ],
      "metadata": {
        "id": "7H5JRwPYN92F"
      }
    },
    {
      "cell_type": "code",
      "source": [],
      "metadata": {
        "id": "GVt_FUGjN5dI"
      },
      "execution_count": null,
      "outputs": []
    },
    {
      "cell_type": "markdown",
      "source": [
        "## Declaring variables cheat sheet\n",
        "\n",
        "Not *every* word or combination of words and numbers can be a variable name. For example, Python has a list of <b>reserved keywords</b> that cannot be variable names:\n",
        "\n",
        "<table type=\\\"text/css\\\">\n",
        "<tr>\n",
        "<td><code>False</code></td>\n",
        "<td><code>None</code></td>\n",
        "<td><code>True</code></td>\n",
        "<td><code>and</code></td>\n",
        "<td><code>as</code></td>\n",
        "<td><code>assert</code></td>\n",
        "<td><code>break</code></td>\n",
        "</tr>\n",
        "<tr>\n",
        "<td><code>class</code></td>\n",
        "<td><code>continue</code></td>\n",
        "<td><code>def</code></td>\n",
        "<td><code>del</code></td>\n",
        "<td><code>elif</code></td>\n",
        "<td><code>else</code></td>\n",
        "<td><code>except</code></td>\n",
        "</tr>\n",
        "<tr>\n",
        "<td><code>finally</code></td>\n",
        "<td><code>for</code></td>\n",
        "<td><code>from</code></td>\n",
        "<td><code>global</code></td>\n",
        "<td><code>if</code></td>\n",
        "<td><code>import</code></td>\n",
        "<td><code>in</code></td>\n",
        "</tr>\n",
        "<tr>\n",
        "<td><code>is</code></td>\n",
        "<td><code>lambda</code></td>\n",
        "<td><code>nonlocal</code></td>\n",
        "<td><code>not</code></td>\n",
        "<td><code>or</code></td>\n",
        "<td><code>pass</code></td>\n",
        "<td><code>raise</code></td>\n",
        "</tr>\n",
        "<tr>\n",
        "<td><code>return</code></td>\n",
        "<td><code>try</code></td>\n",
        "<td><code>while</code></td>\n",
        "<td><code>with</code></td>\n",
        "<td><code>yield</code></td>\n",
        "</tr>   \n",
        "</table>"
      ],
      "metadata": {
        "id": "JqbcS3BHO0nD"
      }
    },
    {
      "cell_type": "markdown",
      "source": [
        "<b>Task:</b> Attempt to create variables with three different reserved words above. Observe what error you receive."
      ],
      "metadata": {
        "id": "1F0b05ssQYet"
      }
    },
    {
      "cell_type": "code",
      "source": [],
      "metadata": {
        "id": "llKXis3JQgu5"
      },
      "execution_count": null,
      "outputs": []
    },
    {
      "cell_type": "markdown",
      "source": [
        "<b>Task:</b> Instead of simply giving you the other rules for creating variables, use trial and error figure out what works and what doesn't. Are variables case-sensitive? Do numbers and symbols (e.g., %, ^, -) work, and if so, where? Derive three rules about variables and write these in a Markdown cell below."
      ],
      "metadata": {
        "id": "lmhw8paJQqBv"
      }
    },
    {
      "cell_type": "markdown",
      "source": [
        "## Your answers here!"
      ],
      "metadata": {
        "id": "PZg2hAY8Qvne"
      }
    },
    {
      "cell_type": "markdown",
      "source": [
        "Save this Jupyter notebook to your GitHub repository by choosing \"File\", and \"Save a Copy in GitHub\" from the drop-down menu above."
      ],
      "metadata": {
        "id": "HCSw9CJrRDr9"
      }
    }
  ]
}