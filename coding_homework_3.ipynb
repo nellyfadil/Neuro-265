{
  "nbformat": 4,
  "nbformat_minor": 0,
  "metadata": {
    "colab": {
      "provenance": [],
      "include_colab_link": true
    },
    "kernelspec": {
      "name": "python3",
      "display_name": "Python 3"
    },
    "language_info": {
      "name": "python"
    }
  },
  "cells": [
    {
      "cell_type": "markdown",
      "metadata": {
        "id": "view-in-github",
        "colab_type": "text"
      },
      "source": [
        "<a href=\"https://colab.research.google.com/github/nellyfadil/Neuro-265/blob/main/coding_homework_3.ipynb\" target=\"_parent\"><img src=\"https://colab.research.google.com/assets/colab-badge.svg\" alt=\"Open In Colab\"/></a>"
      ]
    },
    {
      "cell_type": "markdown",
      "source": [
        "# Coding Homework #3\n",
        "\n",
        "**Instructions**\n",
        "\n",
        "1. Make a *Markdown Cell* that contains the following information:\n",
        "- Your name (small header)\n",
        "- The name of this class (italicized)\n",
        "- The date (bolded)\n",
        "\n",
        "2. Make a *Code Cell* that imports <code>numpy</code> as <code>np</code>, <code>matplotlib.pyplot</code> as <code>plt</code>, and <code>scipy.stats</code> as <code>stats</code>.\n",
        "\n",
        "3. Make a *Code Cell* that imports your <code>v_rest1.csv</code> and <code>v_rest2.csv</code> variables as <code>numpy</code> arrays called <code>v_rest1</code> and <code>v_rest2</code> respectively.\n",
        "\n",
        "4. Make a *Code Cell* that does the following:\n",
        "  \n",
        "  a. Finds the means of <code>v_rest1</code> and <code>v_rest2</code>.\n",
        "  \n",
        "  b. Performs a t-test to test the null hypothesis that the means of <code>v_rest1</code> and <code>v_rest2</code> come from different distributions.\n",
        "\n",
        "  c. Plots a histogram of <code>v_rest1</code> in one subplot, and a histogram of <code>v_rest2</code> in another subplot if the p-value of the t-test is > 0.05. You can make two subplots using the syntax <code>fig, ax = plt.subplots(1,1)</code>.\n",
        "\n",
        "  d. Labels the y-axis and x-axis of your histograms (recall that <code>ax.ylabel</code> and <code>ax.xlabel</code> are the methods that let you accomplish this).\n",
        "\n",
        "5. Make a *Code Cell* that defines a function called <code>vrestHist()</code>. This function should execute the code in step 4 when called. Remember to tell python that you want the function to show your plots when you call it!\n",
        "\n",
        "6. Make a *Code Cell* that calls <code>vrestHist()</code>.\n",
        "\n",
        "7. Make a *Code Cell* that does the following:\n",
        "\n",
        "    a. Loops through each column of <code>v_rest1</code> and <code>v_rest2</code> and makes a scatter plot with <code>v_rest1</code> on the x-axis and <code>v_rest2</code> on the y-axis. \n",
        "\n",
        "    b. Each iteration of your loop should plot a different point on the scatter plot. At the end of your loop, you should have only one scatter plot with number of data points equal to the length of <code>v_rest1</code> and <code>v_rest2</code>.\n",
        "\n",
        "    c. Your loop should plot a <font color = 'red'>red</font> dot if *both* values in <code>v_rest1</code> and <code>v_rest2</code> are greater than -60, a <font color = 'green'>green</font> dot if values in <code>v_rest1</code> are greater than -60, but values in <code>v_rest2</code> are less than -60, and a <font color = 'blue'>blue</font> dot if *both* values in <code>v_rest1</code> and <code>v_rest2</code> are less than -60. \n",
        "\n",
        "    d. Labels your y-axis and your x-axis (this code should be outside of your loop).\n",
        "\n",
        "8. Make a *Code Cell* that defines a function called <code>vrestScatter()</code>. This function should execute the code in step 7 when called. Remember to tell python that you want the function to show your plot when you call it!\n",
        "\n",
        "9. Save a copy of this notebook to your GitHub repo with the title \"coding_homework_3.ipynb\"."
      ],
      "metadata": {
        "id": "zbzMCJlMN3ph"
      }
    },
    {
      "cell_type": "markdown",
      "source": [
        "####Nelly Fadil \n",
        "*Neuro Data Analysis*\n",
        "\n",
        "**3/3/2023** "
      ],
      "metadata": {
        "id": "bJnpHHF8bRRz"
      }
    },
    {
      "cell_type": "code",
      "source": [
        "#2 import\n",
        "import numpy as np \n",
        "import matplotlib.pyplot as plt \n",
        "import scipy.stats as stats "
      ],
      "metadata": {
        "id": "aeajqnOPbkri"
      },
      "execution_count": 3,
      "outputs": []
    },
    {
      "cell_type": "code",
      "source": [
        "#3 import v_rest1 & v_rest2 numpy array\n",
        "url1=('https://raw.githubusercontent.com/nellyfadil/Neuro-265/main/vrest_1%20-%20vrest_1.csv')\n",
        "v_rest1 = np.loadtxt(url1)\n",
        "\n",
        "url2=('https://raw.githubusercontent.com/nellyfadil/Neuro-265/main/vrest_2%20-%20vrest_2.csv')\n",
        "v_rest2 = np.loadtxt(url2)\n",
        "\n",
        "v_rest_1=np.array([v_rest1])\n",
        "v_rest_2=np.array([v_rest2])"
      ],
      "metadata": {
        "id": "ywNUe-FdbxXh"
      },
      "execution_count": 4,
      "outputs": []
    },
    {
      "cell_type": "code",
      "source": [
        "#4a means of v_rest1 & v_rest2\n",
        "means_1=v_rest_1.mean()\n",
        "print(means_1)\n",
        "means_2=v_rest_2.mean()\n",
        "print(means_2)"
      ],
      "metadata": {
        "colab": {
          "base_uri": "https://localhost:8080/"
        },
        "id": "qvwabQc4llFw",
        "outputId": "c2d99846-9ce8-4632-fe7b-6594544802a0"
      },
      "execution_count": 5,
      "outputs": [
        {
          "output_type": "stream",
          "name": "stdout",
          "text": [
            "-71.13868810384615\n",
            "-72.54166717769232\n"
          ]
        }
      ]
    },
    {
      "cell_type": "code",
      "source": [
        "#4b ttest null hyp that means come from diff distrubutions \n",
        "\n",
        "means_1=np.random.normal(-71.13868810384615)\n",
        "means_2=np.random.normal(-72.54166717769232)\n",
        "stats.ttest_ind(v_rest_1[0],v_rest_2[0])"
      ],
      "metadata": {
        "colab": {
          "base_uri": "https://localhost:8080/"
        },
        "id": "LNEJ3gPNnSZD",
        "outputId": "2517f694-e9b3-4b39-f39a-42621db44dd8"
      },
      "execution_count": 6,
      "outputs": [
        {
          "output_type": "execute_result",
          "data": {
            "text/plain": [
              "Ttest_indResult(statistic=0.6520104635125414, pvalue=0.5205904106007571)"
            ]
          },
          "metadata": {},
          "execution_count": 6
        }
      ]
    },
    {
      "cell_type": "code",
      "source": [
        "#4c/d histogram of v_rest1 in seperate subplts if p>0.05, label axes\n",
        "a = v_rest_1\n",
        "b = v_rest_2\n",
        "\n",
        "fig, ax = plt.subplots(1,2)\n",
        "ax[0].hist(v_rest_1[0,:])\n",
        "ax[0].set_ylabel('frequency')\n",
        "ax[0].set_xlabel('resting membrane potential')\n",
        "\n",
        "ax[1].hist(v_rest_2[0,:])\n",
        "ax[1].set_ylabel('frequency')\n",
        "ax[1].set_xlabel('resting membrane potential')\n",
        "\n",
        "plt.show()\n"
      ],
      "metadata": {
        "colab": {
          "base_uri": "https://localhost:8080/",
          "height": 279
        },
        "id": "q3Pvfg8UqKvg",
        "outputId": "bc267b03-c6c9-4657-fc94-ed7bd71061f7"
      },
      "execution_count": 7,
      "outputs": [
        {
          "output_type": "display_data",
          "data": {
            "text/plain": [
              "<Figure size 432x288 with 2 Axes>"
            ],
            "image/png": "[encoded data removed]"
          },
          "metadata": {
            "needs_background": "light"
          }
        }
      ]
    },
    {
      "cell_type": "code",
      "source": [
        "#5 define vrestHist() should execute step 4 \n",
        "def vrestHist():\n",
        "  means_1=v_rest_1.mean()\n",
        "  print(means_1)\n",
        "  means_2=v_rest_2.mean()\n",
        "  print(means_2)\n",
        "\n",
        "  means_1=np.random.normal(-71.13868810384615)\n",
        "  means_2=np.random.normal(-72.54166717769232)\n",
        "  stats.ttest_ind(v_rest_1[0],v_rest_2[0])\n",
        "  print(stats.ttest_ind(v_rest_1[0],v_rest_2[0]))\n",
        "\n",
        "  a = v_rest_1\n",
        "  b = v_rest_2\n",
        "\n",
        "  fig, ax = plt.subplots(1,2)\n",
        "  ax[0].hist(v_rest_1[0,:])\n",
        "  ax[0].set_ylabel('frequency')\n",
        "  ax[0].set_xlabel('resting membrane potential')\n",
        "\n",
        "  ax[1].hist(v_rest_2[0,:])\n",
        "  ax[1].set_ylabel('frequency')\n",
        "  ax[1].set_xlabel('resting membrane potential')\n",
        "\n",
        "plt.show()"
      ],
      "metadata": {
        "id": "pJiUAWLe0xO-"
      },
      "execution_count": 10,
      "outputs": []
    },
    {
      "cell_type": "code",
      "source": [
        "#6 call vrestHist\n",
        "vrestHist()"
      ],
      "metadata": {
        "id": "j6YA8mUQ4KpN",
        "outputId": "bdd98fe5-9b1e-414b-8d0e-c0694e641375",
        "colab": {
          "base_uri": "https://localhost:8080/",
          "height": 331
        }
      },
      "execution_count": 11,
      "outputs": [
        {
          "output_type": "stream",
          "name": "stdout",
          "text": [
            "-71.13868810384615\n",
            "-72.54166717769232\n",
            "Ttest_indResult(statistic=0.6520104635125414, pvalue=0.5205904106007571)\n"
          ]
        },
        {
          "output_type": "display_data",
          "data": {
            "text/plain": [
              "<Figure size 432x288 with 2 Axes>"
            ],
            "image/png": "[encoded data removed]"
          },
          "metadata": {
            "needs_background": "light"
          }
        }
      ]
    },
    {
      "cell_type": "code",
      "source": [
        "#7a loop through each columm of vrest_1 & 2 and make scatterplt rest1 on x rest2 on y  \n",
        "def vrestScatter(v_rest_1, v_rest_2):\n",
        "  plt.scatter([],[])\n",
        "  \n",
        "  for i in range(len(v_rest_1[0])):\n",
        "    x = v_rest_1[0,i]\n",
        "    y = v_rest_2[0,i]\n",
        "    if x > -60 and y > -60:\n",
        "      plt.plot([x],[y],marker='o',color = 'red')\n",
        "    if x > -60 and y < -60:\n",
        "      plt.plot([x],[y],marker='o',color = 'green')\n",
        "    if x < -60 and y < -60:\n",
        "      plt.plot([x],[y],marker='o',color = 'blue')\n",
        "  \n",
        "  plt.xlabel('Membrane potential v_rest1')\n",
        "  plt.ylabel('membrane potential v_rest2')\n",
        "\n",
        "  plt.show()"
      ],
      "metadata": {
        "id": "gm_0nFB44TZU"
      },
      "execution_count": 12,
      "outputs": []
    },
    {
      "cell_type": "code",
      "source": [
        "#call vrestscatter \n",
        "vrestScatter(v_rest_1, v_rest_2)"
      ],
      "metadata": {
        "id": "XKPdMBol80P7",
        "outputId": "c7159bf7-5156-4343-e327-1603a4c4fc51",
        "colab": {
          "base_uri": "https://localhost:8080/",
          "height": 280
        }
      },
      "execution_count": 13,
      "outputs": [
        {
          "output_type": "display_data",
          "data": {
            "text/plain": [
              "<Figure size 432x288 with 1 Axes>"
            ],
            "image/png": "[encoded data removed]"
          },
          "metadata": {
            "needs_background": "light"
          }
        }
      ]
    },
    {
      "cell_type": "code",
      "source": [],
      "metadata": {
        "id": "Zt6mrk9e93rW"
      },
      "execution_count": null,
      "outputs": []
    }
  ]
}