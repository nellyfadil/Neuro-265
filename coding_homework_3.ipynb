{
  "nbformat": 4,
  "nbformat_minor": 0,
  "metadata": {
    "colab": {
      "provenance": [],
      "include_colab_link": true
    },
    "kernelspec": {
      "name": "python3",
      "display_name": "Python 3"
    },
    "language_info": {
      "name": "python"
    }
  },
  "cells": [
    {
      "cell_type": "markdown",
      "metadata": {
        "id": "view-in-github",
        "colab_type": "text"
      },
      "source": [
        "<a href=\"https://colab.research.google.com/github/nellyfadil/Neuro-265/blob/main/coding_homework_3.ipynb\" target=\"_parent\"><img src=\"https://colab.research.google.com/assets/colab-badge.svg\" alt=\"Open In Colab\"/></a>"
      ]
    },
    {
      "cell_type": "markdown",
      "source": [
        "# Coding Homework #3\n",
        "\n",
        "**Instructions**\n",
        "\n",
        "1. Make a *Markdown Cell* that contains the following information:\n",
        "- Your name (small header)\n",
        "- The name of this class (italicized)\n",
        "- The date (bolded)\n",
        "\n",
        "2. Make a *Code Cell* that imports <code>numpy</code> as <code>np</code>, <code>matplotlib.pyplot</code> as <code>plt</code>, and <code>scipy.stats</code> as <code>stats</code>.\n",
        "\n",
        "3. Make a *Code Cell* that imports your <code>v_rest1.csv</code> and <code>v_rest2.csv</code> variables as <code>numpy</code> arrays called <code>v_rest1</code> and <code>v_rest2</code> respectively.\n",
        "\n",
        "4. Make a *Code Cell* that does the following:\n",
        "  \n",
        "  a. Finds the means of <code>v_rest1</code> and <code>v_rest2</code>.\n",
        "  \n",
        "  b. Performs a t-test to test the null hypothesis that the means of <code>v_rest1</code> and <code>v_rest2</code> come from different distributions.\n",
        "\n",
        "  c. Plots a histogram of <code>v_rest1</code> in one subplot, and a histogram of <code>v_rest2</code> in another subplot if the p-value of the t-test is > 0.05. You can make two subplots using the syntax <code>fig, ax = plt.subplots(1,1)</code>.\n",
        "\n",
        "  d. Labels the y-axis and x-axis of your histograms (recall that <code>ax.ylabel</code> and <code>ax.xlabel</code> are the methods that let you accomplish this).\n",
        "\n",
        "5. Make a *Code Cell* that defines a function called <code>vrestHist()</code>. This function should execute the code in step 4 when called. Remember to tell python that you want the function to show your plots when you call it!\n",
        "\n",
        "6. Make a *Code Cell* that calls <code>vrestHist()</code>.\n",
        "\n",
        "7. Make a *Code Cell* that does the following:\n",
        "\n",
        "    a. Loops through each column of <code>v_rest1</code> and <code>v_rest2</code> and makes a scatter plot with <code>v_rest1</code> on the x-axis and <code>v_rest2</code> on the y-axis. \n",
        "\n",
        "    b. Each iteration of your loop should plot a different point on the scatter plot. At the end of your loop, you should have only one scatter plot with number of data points equal to the length of <code>v_rest1</code> and <code>v_rest2</code>.\n",
        "\n",
        "    c. Your loop should plot a <font color = 'red'>red</font> dot if *both* values in <code>v_rest1</code> and <code>v_rest2</code> are greater than -60, a <font color = 'green'>green</font> dot if values in <code>v_rest1</code> are greater than -60, but values in <code>v_rest2</code> are less than -60, and a <font color = 'blue'>blue</font> dot if *both* values in <code>v_rest1</code> and <code>v_rest2</code> are less than -60. \n",
        "\n",
        "    d. Labels your y-axis and your x-axis (this code should be outside of your loop).\n",
        "\n",
        "8. Make a *Code Cell* that defines a function called <code>vrestScatter()</code>. This function should execute the code in step 7 when called. Remember to tell python that you want the function to show your plot when you call it!\n",
        "\n",
        "9. Save a copy of this notebook to your GitHub repo with the title \"coding_homework_3.ipynb\"."
      ],
      "metadata": {
        "id": "zbzMCJlMN3ph"
      }
    },
    {
      "cell_type": "markdown",
      "source": [
        "####Nelly Fadil \n",
        "*Neuro Data Analysis*\n",
        "\n",
        "**3/3/2023** "
      ],
      "metadata": {
        "id": "bJnpHHF8bRRz"
      }
    },
    {
      "cell_type": "code",
      "source": [
        "#2 import\n",
        "import numpy as np \n",
        "import matplotlib.pyplot as plt \n",
        "import scipy.stats as stats "
      ],
      "metadata": {
        "id": "aeajqnOPbkri"
      },
      "execution_count": 47,
      "outputs": []
    },
    {
      "cell_type": "code",
      "source": [
        "#3 import v_rest1 & v_rest2 numpy array\n",
        "url1=('https://raw.githubusercontent.com/nellyfadil/Neuro-265/main/vrest_1%20-%20vrest_1.csv')\n",
        "v_rest1 = np.loadtxt(url1)\n",
        "\n",
        "url2=('https://raw.githubusercontent.com/nellyfadil/Neuro-265/main/vrest_2%20-%20vrest_2.csv')\n",
        "v_rest2 = np.loadtxt(url2)\n",
        "\n",
        "v_rest_1=np.array([v_rest1])\n",
        "v_rest_2=np.array([v_rest2])"
      ],
      "metadata": {
        "id": "ywNUe-FdbxXh"
      },
      "execution_count": 48,
      "outputs": []
    },
    {
      "cell_type": "code",
      "source": [
        "#4a means of v_rest1 & v_rest2\n",
        "means_1=v_rest_1.mean()\n",
        "print(means_1)\n",
        "means_2=v_rest_2.mean()\n",
        "print(means_2)"
      ],
      "metadata": {
        "id": "qvwabQc4llFw",
        "outputId": "e30222fc-dadf-4b66-90f7-38987ec758c5",
        "colab": {
          "base_uri": "https://localhost:8080/"
        }
      },
      "execution_count": 52,
      "outputs": [
        {
          "output_type": "stream",
          "name": "stdout",
          "text": [
            "-71.13868810384615\n",
            "-72.54166717769232\n"
          ]
        }
      ]
    },
    {
      "cell_type": "code",
      "source": [
        "#4b test that means come from diff distrubutions \n",
        "\n",
        "means_1=np.random.normal(-71.13868810384615)\n",
        "means_2=np.random.normal(-72.54166717769232)\n",
        "\n",
        "stats.mannwhitneyu(means_1,means_2)\n",
        "#data was too small when I ran stats.ttest_ind and gave me a \n",
        "#'catastrophic cancellation' message bc the values were too close together\n",
        "#so I ran mannwhitneyu instead"
      ],
      "metadata": {
        "id": "LNEJ3gPNnSZD",
        "outputId": "5e23ab01-37b3-4199-a232-426c5c7dd803",
        "colab": {
          "base_uri": "https://localhost:8080/"
        }
      },
      "execution_count": 66,
      "outputs": [
        {
          "output_type": "execute_result",
          "data": {
            "text/plain": [
              "MannwhitneyuResult(statistic=0.0, pvalue=1.0)"
            ]
          },
          "metadata": {},
          "execution_count": 66
        }
      ]
    },
    {
      "cell_type": "code",
      "source": [
        "#4c/d histogram of v_rest1 in seperate subplts if p>0.05, label axes\n",
        "a = v_rest_1\n",
        "b = v_rest_2\n",
        "\n",
        "fig, ax = plt.subplots(1,2)\n",
        "ax[0].hist(v_rest_1[0,:])\n",
        "ax[0].set_ylabel('frequency')\n",
        "ax[0].set_xlabel('resting membrane potential')\n",
        "\n",
        "ax[1].hist(v_rest_2[0,:])\n",
        "ax[1].set_ylabel('frequency')\n",
        "ax[1].set_xlabel('resting membrane potential')\n",
        "\n",
        "plt.show()\n"
      ],
      "metadata": {
        "id": "q3Pvfg8UqKvg",
        "outputId": "f9e30569-cfe6-4d9e-ab47-7dd49adf76ec",
        "colab": {
          "base_uri": "https://localhost:8080/",
          "height": 279
        }
      },
      "execution_count": 125,
      "outputs": [
        {
          "output_type": "display_data",
          "data": {
            "text/plain": [
              "<Figure size 432x288 with 2 Axes>"
            ],
            "image/png": "[encoded data removed]"
          },
          "metadata": {
            "needs_background": "light"
          }
        }
      ]
    },
    {
      "cell_type": "code",
      "source": [
        "#define vrestHist() should execute step 4 when called \n",
        "def vrestHist():\n",
        "  means_1=v_rest_1.mean()\n",
        "  print(means_1)\n",
        "  means_2=v_rest_2.mean()\n",
        "  print(means_2)\n",
        "\n",
        "  means_1=np.random.normal(-71.13868810384615)\n",
        "  means_2=np.random.normal(-72.54166717769232)\n",
        "  stats.mannwhitneyu(means_1,means_2)\n",
        "  print(stats.mannwhitneyu(means_1,means_2))\n",
        "\n",
        "  a = v_rest_1\n",
        "  b = v_rest_2\n",
        "\n",
        "  fig, ax = plt.subplots(1,2)\n",
        "  ax[0].hist(v_rest_1[0,:])\n",
        "  ax[0].set_ylabel('frequency')\n",
        "  ax[0].set_xlabel('resting membrane potential')\n",
        "\n",
        "  ax[1].hist(v_rest_2[0,:])\n",
        "  ax[1].set_ylabel('frequency')\n",
        "  ax[1].set_xlabel('resting membrane potential')\n",
        "\n",
        "plt.show()\n",
        "vrestHist()"
      ],
      "metadata": {
        "id": "pJiUAWLe0xO-",
        "outputId": "3d6bbf56-1bb1-411b-f1b9-0e3c3bab8a50",
        "colab": {
          "base_uri": "https://localhost:8080/",
          "height": 331
        }
      },
      "execution_count": 133,
      "outputs": [
        {
          "output_type": "stream",
          "name": "stdout",
          "text": [
            "-71.13868810384615\n",
            "-72.54166717769232\n",
            "MannwhitneyuResult(statistic=1.0, pvalue=1.0)\n"
          ]
        },
        {
          "output_type": "display_data",
          "data": {
            "text/plain": [
              "<Figure size 432x288 with 2 Axes>"
            ],
            "image/png": "[encoded data removed]"
          },
          "metadata": {
            "needs_background": "light"
          }
        }
      ]
    }
  ]
}